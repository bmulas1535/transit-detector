{
 "cells": [
  {
   "cell_type": "code",
   "execution_count": 2,
   "metadata": {},
   "outputs": [],
   "source": [
    "import pandas as pd\n",
    "import numpy as np\n",
    "import matplotlib.pyplot as plt\n",
    "import scipy as spy\n",
    "import seaborn as sns\n",
    "import sklearn as skl\n",
    "import xgboost as xgb"
   ]
  },
  {
   "cell_type": "code",
   "execution_count": 3,
   "metadata": {},
   "outputs": [],
   "source": [
    "# Define the location of the data to be read in.\n",
    "DATA_PATH = '~/Documents/DS/Data/kic/'"
   ]
  },
  {
   "cell_type": "code",
   "execution_count": 4,
   "metadata": {},
   "outputs": [],
   "source": [
    "# Set data variables\n",
    "training_data = pd.read_csv(DATA_PATH + 'exoTrain.csv')\n",
    "testing_data = pd.read_csv(DATA_PATH + 'exoTest.csv')"
   ]
  },
  {
   "cell_type": "code",
   "execution_count": 5,
   "metadata": {},
   "outputs": [],
   "source": [
    "# Seperate features (time series) from target (label)\n",
    "target = 'LABEL'"
   ]
  },
  {
   "cell_type": "code",
   "execution_count": 6,
   "metadata": {},
   "outputs": [],
   "source": [
    "# Define functions to do forward fourier transformation\n",
    "def ft(x):\n",
    "    y = spy.fft(x, n= x.size)\n",
    "    return np.abs(y)\n",
    "    \n",
    "def spectrum_transform(X):\n",
    "    X = X.copy()\n",
    "    X = X.div(X.sum(axis=1), axis=0)\n",
    "    X = X.apply(ft, axis=1)\n",
    "    X = pd.DataFrame.from_records(X.iloc[[x for x in range(len(X))]])\n",
    "    \n",
    "    ### The spectra are perfectly symmetrical, so cut them in half to reduct dimensionality ###\n",
    "    size = len(X.columns) - 1599\n",
    "    X = X.loc[:,size:]\n",
    "    # Give each column a uniform name\n",
    "    # Fixes situations where imported foriegn rows have different number of BJKD\n",
    "    for i in range(len(X.columns)):\n",
    "        X = X.rename(columns={X.columns[i]: f'f.{i+1}'})\n",
    "    return X"
   ]
  },
  {
   "cell_type": "code",
   "execution_count": 7,
   "metadata": {},
   "outputs": [],
   "source": [
    "# Apply transformation to training and testing data\n",
    "train = spectrum_transform(training_data.drop(columns=target))\n",
    "test = spectrum_transform(testing_data.drop(columns=target))"
   ]
  },
  {
   "cell_type": "code",
   "execution_count": 8,
   "metadata": {},
   "outputs": [],
   "source": [
    "# Get target vectors\n",
    "y_train = training_data[target]\n",
    "y_test = testing_data[target]"
   ]
  },
  {
   "cell_type": "code",
   "execution_count": 1,
   "metadata": {},
   "outputs": [
    {
     "ename": "NameError",
     "evalue": "name 'plt' is not defined",
     "output_type": "error",
     "traceback": [
      "\u001b[0;31m---------------------------------------------------------------------------\u001b[0m",
      "\u001b[0;31mNameError\u001b[0m                                 Traceback (most recent call last)",
      "\u001b[0;32m<ipython-input-1-d1bdba181b9d>\u001b[0m in \u001b[0;36m<module>\u001b[0;34m\u001b[0m\n\u001b[1;32m      1\u001b[0m \u001b[0;31m# Plot first line from training data to ensure spectrum data looks correct\u001b[0m\u001b[0;34m\u001b[0m\u001b[0;34m\u001b[0m\u001b[0;34m\u001b[0m\u001b[0m\n\u001b[0;32m----> 2\u001b[0;31m \u001b[0mplt\u001b[0m\u001b[0;34m.\u001b[0m\u001b[0mstyle\u001b[0m\u001b[0;34m.\u001b[0m\u001b[0muse\u001b[0m\u001b[0;34m(\u001b[0m\u001b[0;34m'fivethirtyeight'\u001b[0m\u001b[0;34m)\u001b[0m\u001b[0;34m\u001b[0m\u001b[0;34m\u001b[0m\u001b[0m\n\u001b[0m\u001b[1;32m      3\u001b[0m \u001b[0;34m\u001b[0m\u001b[0m\n\u001b[1;32m      4\u001b[0m \u001b[0mfig\u001b[0m \u001b[0;34m=\u001b[0m \u001b[0mplt\u001b[0m\u001b[0;34m.\u001b[0m\u001b[0mfigure\u001b[0m\u001b[0;34m(\u001b[0m\u001b[0mfigsize\u001b[0m\u001b[0;34m=\u001b[0m\u001b[0;34m(\u001b[0m\u001b[0;36m8\u001b[0m\u001b[0;34m,\u001b[0m\u001b[0;36m5\u001b[0m\u001b[0;34m)\u001b[0m\u001b[0;34m)\u001b[0m\u001b[0;34m\u001b[0m\u001b[0;34m\u001b[0m\u001b[0m\n\u001b[1;32m      5\u001b[0m \u001b[0mplt\u001b[0m\u001b[0;34m.\u001b[0m\u001b[0maxes\u001b[0m\u001b[0;34m(\u001b[0m\u001b[0mframeon\u001b[0m\u001b[0;34m=\u001b[0m\u001b[0;32mFalse\u001b[0m\u001b[0;34m)\u001b[0m\u001b[0;34m\u001b[0m\u001b[0;34m\u001b[0m\u001b[0m\n",
      "\u001b[0;31mNameError\u001b[0m: name 'plt' is not defined"
     ]
    }
   ],
   "source": [
    "# Plot first line from training data to ensure spectrum data looks correct\n",
    "plt.style.use('fivethirtyeight')\n",
    "\n",
    "fig = plt.figure(figsize=(8,5))\n",
    "plt.axes(frameon=False)\n",
    "ax = plt.plot(train.iloc[0], linewidth=0.7, color='C1', alpha=0.7)\n",
    "plt.title('Spectrum analysis')\n",
    "plt.ylabel('Fluctuation')\n",
    "plt.xlabel('Frequency')\n",
    "plt.grid(False)\n",
    "plt.yticks([])\n",
    "plt.xticks([])\n",
    "\n",
    "plt.show()"
   ]
  },
  {
   "cell_type": "code",
   "execution_count": 10,
   "metadata": {},
   "outputs": [],
   "source": [
    "# Oversample the training data\n",
    "from imblearn.over_sampling import SMOTE"
   ]
  },
  {
   "cell_type": "code",
   "execution_count": 11,
   "metadata": {},
   "outputs": [],
   "source": [
    "# Oversampling\n",
    "sample = SMOTE(sampling_strategy='minority', random_state=42, )\n",
    "train_xres, train_yres = sample.fit_resample(train, y_train)"
   ]
  },
  {
   "cell_type": "code",
   "execution_count": 12,
   "metadata": {},
   "outputs": [],
   "source": [
    "train_xres = pd.DataFrame(train_xres, columns=train.columns)"
   ]
  },
  {
   "cell_type": "code",
   "execution_count": 13,
   "metadata": {},
   "outputs": [],
   "source": [
    "# Attempt a standard randomforest classifier\n",
    "rf_model = skl.ensemble.RandomForestClassifier(n_estimators = 100, max_depth = 7, random_state=42, n_jobs=-1)\n",
    "rf_model.fit(train_xres, train_yres)\n",
    "y_pred = rf_model.predict(test)\n",
    "y_pred = pd.Series(y_pred)"
   ]
  },
  {
   "cell_type": "markdown",
   "metadata": {},
   "source": [
    "# View Details of the results"
   ]
  },
  {
   "cell_type": "code",
   "execution_count": 14,
   "metadata": {},
   "outputs": [
    {
     "data": {
      "text/plain": [
       "0    2\n",
       "1    2\n",
       "2    2\n",
       "3    2\n",
       "4    2\n",
       "Name: LABEL, dtype: int64"
      ]
     },
     "execution_count": 14,
     "metadata": {},
     "output_type": "execute_result"
    }
   ],
   "source": [
    "y_test[y_test == 2]"
   ]
  },
  {
   "cell_type": "code",
   "execution_count": 15,
   "metadata": {},
   "outputs": [
    {
     "data": {
      "text/plain": [
       "1      2\n",
       "4      2\n",
       "332    2\n",
       "487    2\n",
       "513    2\n",
       "dtype: int64"
      ]
     },
     "execution_count": 15,
     "metadata": {},
     "output_type": "execute_result"
    }
   ],
   "source": [
    "y_pred[y_pred == 2]"
   ]
  },
  {
   "cell_type": "markdown",
   "metadata": {},
   "source": [
    "## How did the Random Forest model do?"
   ]
  },
  {
   "cell_type": "code",
   "execution_count": 16,
   "metadata": {},
   "outputs": [
    {
     "name": "stdout",
     "output_type": "stream",
     "text": [
      "The precision of the Random Forest model is low, at just 40.0 %\n",
      "Recall is exactly the same.\n",
      "False positives predicted at 60.0 %\n"
     ]
    }
   ],
   "source": [
    "print('The precision of the Random Forest model is low, at just',(2/5)*100,'%')\n",
    "print(\"Recall is exactly the same.\")\n",
    "print(\"False positives predicted at\",(3/5)*100,'%')"
   ]
  },
  {
   "cell_type": "code",
   "execution_count": 17,
   "metadata": {},
   "outputs": [
    {
     "name": "stdout",
     "output_type": "stream",
     "text": [
      "              precision    recall  f1-score   support\n",
      "\n",
      "           1       0.99      0.99      0.99       565\n",
      "           2       0.40      0.40      0.40         5\n",
      "\n",
      "    accuracy                           0.99       570\n",
      "   macro avg       0.70      0.70      0.70       570\n",
      "weighted avg       0.99      0.99      0.99       570\n",
      "\n"
     ]
    }
   ],
   "source": [
    "print(skl.metrics.classification_report(y_test, y_pred))"
   ]
  },
  {
   "cell_type": "markdown",
   "metadata": {},
   "source": [
    "# XGBClassifier\n",
    "\n",
    "### Why I chose this model\n",
    "> The XGBClassifier has a slight advantage to the random forest in this type of problem. The biggest strength to the XGBClassifier is it's ability to enhance predictions with prior knowledge. Given that strength, we're able to assist in building better trees as the model gains complexity. This allows the model to hone in on much more subtle queues and overall increases accuracy and recall. To avoid overfitting to the testing data, as this wouldn't be available if we were using this model on new data, I use early stopping to prevent the classifier from getting \"too good\" at predicting the right class."
   ]
  },
  {
   "cell_type": "code",
   "execution_count": 18,
   "metadata": {},
   "outputs": [
    {
     "name": "stdout",
     "output_type": "stream",
     "text": [
      "[0]\tvalidation_0-aucpr:0.093434\tvalidation_1-aucpr:0.038768\n",
      "Multiple eval metrics have been passed: 'validation_1-aucpr' will be used for early stopping.\n",
      "\n",
      "Will train until validation_1-aucpr hasn't improved in 25 rounds.\n",
      "[1]\tvalidation_0-aucpr:0.317825\tvalidation_1-aucpr:0.10486\n",
      "[2]\tvalidation_0-aucpr:0.691998\tvalidation_1-aucpr:0.252463\n",
      "[3]\tvalidation_0-aucpr:0.731783\tvalidation_1-aucpr:0.436667\n",
      "[4]\tvalidation_0-aucpr:0.787892\tvalidation_1-aucpr:0.441265\n",
      "[5]\tvalidation_0-aucpr:0.811447\tvalidation_1-aucpr:0.482091\n",
      "[6]\tvalidation_0-aucpr:0.828308\tvalidation_1-aucpr:0.469717\n",
      "[7]\tvalidation_0-aucpr:0.896721\tvalidation_1-aucpr:0.523861\n",
      "[8]\tvalidation_0-aucpr:0.929397\tvalidation_1-aucpr:0.492923\n",
      "[9]\tvalidation_0-aucpr:0.943433\tvalidation_1-aucpr:0.502403\n",
      "[10]\tvalidation_0-aucpr:0.961954\tvalidation_1-aucpr:0.476969\n",
      "[11]\tvalidation_0-aucpr:0.971942\tvalidation_1-aucpr:0.484501\n",
      "[12]\tvalidation_0-aucpr:0.977859\tvalidation_1-aucpr:0.462266\n",
      "[13]\tvalidation_0-aucpr:0.983276\tvalidation_1-aucpr:0.458167\n",
      "[14]\tvalidation_0-aucpr:0.986279\tvalidation_1-aucpr:0.460152\n",
      "[15]\tvalidation_0-aucpr:0.986669\tvalidation_1-aucpr:0.482576\n",
      "[16]\tvalidation_0-aucpr:0.990473\tvalidation_1-aucpr:0.478501\n",
      "[17]\tvalidation_0-aucpr:0.99185\tvalidation_1-aucpr:0.483336\n",
      "[18]\tvalidation_0-aucpr:0.99185\tvalidation_1-aucpr:0.490561\n",
      "[19]\tvalidation_0-aucpr:0.993238\tvalidation_1-aucpr:0.499802\n",
      "[20]\tvalidation_0-aucpr:0.992499\tvalidation_1-aucpr:0.513972\n",
      "[21]\tvalidation_0-aucpr:0.992589\tvalidation_1-aucpr:0.547548\n",
      "[22]\tvalidation_0-aucpr:0.997083\tvalidation_1-aucpr:0.543604\n",
      "[23]\tvalidation_0-aucpr:0.998596\tvalidation_1-aucpr:0.527224\n",
      "[24]\tvalidation_0-aucpr:0.998596\tvalidation_1-aucpr:0.556072\n",
      "[25]\tvalidation_0-aucpr:0.999279\tvalidation_1-aucpr:0.550327\n",
      "[26]\tvalidation_0-aucpr:1\tvalidation_1-aucpr:0.558796\n",
      "[27]\tvalidation_0-aucpr:1\tvalidation_1-aucpr:0.561675\n",
      "[28]\tvalidation_0-aucpr:1\tvalidation_1-aucpr:0.569119\n",
      "[29]\tvalidation_0-aucpr:1\tvalidation_1-aucpr:0.565186\n",
      "[30]\tvalidation_0-aucpr:1\tvalidation_1-aucpr:0.557014\n",
      "[31]\tvalidation_0-aucpr:1\tvalidation_1-aucpr:0.643207\n",
      "[32]\tvalidation_0-aucpr:1\tvalidation_1-aucpr:0.647955\n",
      "[33]\tvalidation_0-aucpr:1\tvalidation_1-aucpr:0.660313\n",
      "[34]\tvalidation_0-aucpr:1\tvalidation_1-aucpr:0.660563\n",
      "[35]\tvalidation_0-aucpr:1\tvalidation_1-aucpr:0.653251\n",
      "[36]\tvalidation_0-aucpr:1\tvalidation_1-aucpr:0.656509\n",
      "[37]\tvalidation_0-aucpr:1\tvalidation_1-aucpr:0.664452\n",
      "[38]\tvalidation_0-aucpr:1\tvalidation_1-aucpr:0.652701\n",
      "[39]\tvalidation_0-aucpr:1\tvalidation_1-aucpr:0.663782\n",
      "[40]\tvalidation_0-aucpr:1\tvalidation_1-aucpr:0.660002\n",
      "[41]\tvalidation_0-aucpr:1\tvalidation_1-aucpr:0.647487\n",
      "[42]\tvalidation_0-aucpr:1\tvalidation_1-aucpr:0.654061\n",
      "[43]\tvalidation_0-aucpr:1\tvalidation_1-aucpr:0.656586\n",
      "[44]\tvalidation_0-aucpr:1\tvalidation_1-aucpr:0.650747\n",
      "[45]\tvalidation_0-aucpr:1\tvalidation_1-aucpr:0.65221\n",
      "[46]\tvalidation_0-aucpr:1\tvalidation_1-aucpr:0.677884\n",
      "[47]\tvalidation_0-aucpr:1\tvalidation_1-aucpr:0.672244\n",
      "[48]\tvalidation_0-aucpr:1\tvalidation_1-aucpr:0.619313\n",
      "[49]\tvalidation_0-aucpr:1\tvalidation_1-aucpr:0.618653\n",
      "[50]\tvalidation_0-aucpr:1\tvalidation_1-aucpr:0.619806\n",
      "[51]\tvalidation_0-aucpr:1\tvalidation_1-aucpr:0.615163\n",
      "[52]\tvalidation_0-aucpr:1\tvalidation_1-aucpr:0.583602\n",
      "[53]\tvalidation_0-aucpr:1\tvalidation_1-aucpr:0.614286\n",
      "[54]\tvalidation_0-aucpr:1\tvalidation_1-aucpr:0.616192\n",
      "[55]\tvalidation_0-aucpr:1\tvalidation_1-aucpr:0.623901\n",
      "[56]\tvalidation_0-aucpr:1\tvalidation_1-aucpr:0.62256\n",
      "[57]\tvalidation_0-aucpr:1\tvalidation_1-aucpr:0.680516\n",
      "[58]\tvalidation_0-aucpr:1\tvalidation_1-aucpr:0.680516\n",
      "[59]\tvalidation_0-aucpr:1\tvalidation_1-aucpr:0.680735\n",
      "[60]\tvalidation_0-aucpr:1\tvalidation_1-aucpr:0.617641\n",
      "[61]\tvalidation_0-aucpr:1\tvalidation_1-aucpr:0.666414\n",
      "[62]\tvalidation_0-aucpr:1\tvalidation_1-aucpr:0.667164\n",
      "[63]\tvalidation_0-aucpr:1\tvalidation_1-aucpr:0.615204\n",
      "[64]\tvalidation_0-aucpr:1\tvalidation_1-aucpr:0.615204\n",
      "[65]\tvalidation_0-aucpr:1\tvalidation_1-aucpr:0.619457\n",
      "[66]\tvalidation_0-aucpr:1\tvalidation_1-aucpr:0.593817\n",
      "[67]\tvalidation_0-aucpr:1\tvalidation_1-aucpr:0.563668\n",
      "[68]\tvalidation_0-aucpr:1\tvalidation_1-aucpr:0.5676\n",
      "[69]\tvalidation_0-aucpr:1\tvalidation_1-aucpr:0.588662\n",
      "[70]\tvalidation_0-aucpr:1\tvalidation_1-aucpr:0.5897\n",
      "[71]\tvalidation_0-aucpr:1\tvalidation_1-aucpr:0.569939\n",
      "[72]\tvalidation_0-aucpr:1\tvalidation_1-aucpr:0.569939\n",
      "[73]\tvalidation_0-aucpr:1\tvalidation_1-aucpr:0.596249\n",
      "[74]\tvalidation_0-aucpr:1\tvalidation_1-aucpr:0.590465\n",
      "[75]\tvalidation_0-aucpr:1\tvalidation_1-aucpr:0.58934\n",
      "[76]\tvalidation_0-aucpr:1\tvalidation_1-aucpr:0.596656\n",
      "[77]\tvalidation_0-aucpr:1\tvalidation_1-aucpr:0.598477\n",
      "[78]\tvalidation_0-aucpr:1\tvalidation_1-aucpr:0.598477\n",
      "[79]\tvalidation_0-aucpr:1\tvalidation_1-aucpr:0.598986\n",
      "[80]\tvalidation_0-aucpr:1\tvalidation_1-aucpr:0.587834\n",
      "[81]\tvalidation_0-aucpr:1\tvalidation_1-aucpr:0.598986\n",
      "[82]\tvalidation_0-aucpr:1\tvalidation_1-aucpr:0.583695\n",
      "[83]\tvalidation_0-aucpr:1\tvalidation_1-aucpr:0.580636\n",
      "[84]\tvalidation_0-aucpr:1\tvalidation_1-aucpr:0.589441\n",
      "Stopping. Best iteration:\n",
      "[59]\tvalidation_0-aucpr:1\tvalidation_1-aucpr:0.680735\n",
      "\n"
     ]
    },
    {
     "data": {
      "text/plain": [
       "XGBClassifier(base_score=0.5, booster='gbtree', colsample_bylevel=1,\n",
       "              colsample_bynode=1, colsample_bytree=1, gamma=0,\n",
       "              learning_rate=0.25, max_delta_step=0, max_depth=3,\n",
       "              min_child_weight=1, missing=None, n_estimators=1000, n_jobs=-1,\n",
       "              nthread=None, objective='binary:logistic', random_state=42,\n",
       "              reg_alpha=0, reg_lambda=1, scale_pos_weight=1, seed=None,\n",
       "              silent=None, subsample=1, verbosity=1)"
      ]
     },
     "execution_count": 18,
     "metadata": {},
     "output_type": "execute_result"
    }
   ],
   "source": [
    "boost_model2 = xgb.XGBClassifier(n_estimators=1000, learning_rate=0.25, max_depth=3, random_state=42, n_jobs=-1)\n",
    "eval_set2 = [(train, y_train),(test, y_test)]\n",
    "boost_model2.fit(train_xres, train_yres, early_stopping_rounds=25, eval_metric='aucpr', eval_set=eval_set2)"
   ]
  },
  {
   "cell_type": "markdown",
   "metadata": {},
   "source": [
    "# How to Interpret this data:\n",
    "\n",
    "> The following code illustrates a procedure that may seem a bit unorthodox. At it's surface, this code takes the predicted probability from the model and if that values is greater than 1%, returns a positive prediction class (2). It may seem at first counter intuitive to take such small percentages to assume a positive prediction, but this is done for a couple of reasons.\n",
    "\n",
    "> The model generally appears to be very sure, with most of the data, on if it thinks there is not a transit. Most prediction probabilities range around 95 - 99%. Because the model is generally very confident about non-transits, whenever there is a little uncertainty, that indicates that signals for transit may be present.\n",
    "\n",
    "> Because the model is tree based, it is very hard to figure out new transit signals. On the other hand, negative transit signals are available in abundance. Therefore, the likelyhood of a false negative is extremely low. By ruling out what the model knows is negative, we can hone in on what is positive. The false positive rate will be higher, but the idea is that recall should be at or very near zero.\n",
    "\n",
    "> It may be possible to take the positives and filter further with different transformations. This will be explored later on."
   ]
  },
  {
   "cell_type": "code",
   "execution_count": 19,
   "metadata": {},
   "outputs": [
    {
     "name": "stdout",
     "output_type": "stream",
     "text": [
      "              precision    recall  f1-score   support\n",
      "\n",
      "           1       1.00      0.89      0.94       565\n",
      "           2       0.08      1.00      0.14         5\n",
      "\n",
      "    accuracy                           0.89       570\n",
      "   macro avg       0.54      0.95      0.54       570\n",
      "weighted avg       0.99      0.89      0.94       570\n",
      "\n"
     ]
    }
   ],
   "source": [
    "y_pred2 = boost_model2.predict_proba(test)\n",
    "\n",
    "y_pred3 = []\n",
    "for x, y in y_pred2:\n",
    "    if y >= 0.0095:\n",
    "        y_pred3.append(2)\n",
    "    else:\n",
    "        y_pred3.append(1)\n",
    "        \n",
    "print(skl.metrics.classification_report(y_test, y_pred3))"
   ]
  },
  {
   "cell_type": "markdown",
   "metadata": {},
   "source": [
    "## As expected, recall is at 1, with a very low (relative) precision."
   ]
  },
  {
   "cell_type": "markdown",
   "metadata": {},
   "source": [
    "### Here is a plot of the AUC/PR score curve"
   ]
  },
  {
   "cell_type": "code",
   "execution_count": 20,
   "metadata": {},
   "outputs": [
    {
     "data": {
      "image/png": "[encoded data removed]",
      "text/plain": [
       "<Figure size 720x576 with 1 Axes>"
      ]
     },
     "metadata": {},
     "output_type": "display_data"
    }
   ],
   "source": [
    "# Plot the model scores\n",
    "\n",
    "# Set style and variables\n",
    "plt.style.use('fivethirtyeight')\n",
    "train_score = boost_model2.evals_result()['validation_0']['aucpr']\n",
    "test_score = boost_model2.evals_result()['validation_1']['aucpr']\n",
    "est_index = [index for index, value in enumerate(test_score) if value == max(test_score)]\n",
    "\n",
    "# Load the figure and parameters\n",
    "fig = plt.figure(figsize=(10,8), facecolor='#ededed')\n",
    "\n",
    "# Plot the data (Also instantiates the axes)\n",
    "plt.plot(train_score, color='C0', label='Train', dashes=([1,2,6,2]), linewidth=3)\n",
    "plt.plot(test_score, color='C1', label='Test', dashes=([10,1]), linewidth=3)\n",
    "\n",
    "# Draw lines for best model and best complexity intersection\n",
    "plt.axhline(max(test_score), 0.01, 0.69, color='red', linewidth=1.5, dashes=(5,2), alpha=.7)\n",
    "plt.axvline(est_index, 0.01, 0.339, color='green', linewidth=1.5, dashes=(5,2), alpha=.7)\n",
    "\n",
    "# Write texts and title\n",
    "plt.text(27, 0.715, s=\"Best Score\", color='Red', alpha=.7, fontweight='bold')\n",
    "plt.text(56, 0.975, s='Best Complexity', rotation=-90, color='green', alpha=.7, fontweight='bold')\n",
    "plt.text(40, 0.715, s='{:.2f}%'.format(max(test_score)*100), color='red', alpha=.7, fontweight='bold')\n",
    "plt.text(59.5, 0.83, s=est_index[0], rotation=-90, color='green', alpha=.7, fontweight='bold')\n",
    "plt.title('Area Under Precision/Recall Curve')\n",
    "\n",
    "# Fix the y axis \n",
    "plt.ylabel('AUPRC Score')\n",
    "plt.yticks([0, 0.2, 0.4, 0.6, 0.8, 1], labels=['0%', '20%', '40%', '60%', '80%', '100%'])\n",
    "plt.gca().invert_yaxis()\n",
    "\n",
    "# Fix the x axis\n",
    "plt.xlabel('Model Complexity (n_estimators)')\n",
    "\n",
    "# Sub params and show\n",
    "plt.legend()\n",
    "plt.show()"
   ]
  },
  {
   "cell_type": "code",
   "execution_count": 21,
   "metadata": {},
   "outputs": [
    {
     "name": "stdout",
     "output_type": "stream",
     "text": [
      "[[ 89.38053097  10.61946903]\n",
      " [  0.         100.        ]]\n"
     ]
    }
   ],
   "source": [
    "# I have to do this crazy calculations because python thinks 112 / 565 is 22.4. Not even close.\n",
    "cm1 = skl.metrics.confusion_matrix(y_test, y_pred3)\n",
    "row0 = cm1[[0]].sum()\n",
    "row1 = cm1[[1]].sum()\n",
    "\n",
    "cm_final = np.array(\n",
    "    [[cm1[0,0]/row0*100,\n",
    "      cm1[0,1]/row0*100],\n",
    "     [cm1[1,0]/row1*100,\n",
    "      cm1[1,1]/row1*100]]\n",
    ")\n",
    "print(cm_final)"
   ]
  },
  {
   "cell_type": "code",
   "execution_count": 22,
   "metadata": {},
   "outputs": [
    {
     "data": {
      "image/png": "[encoded data removed]",
      "text/plain": [
       "<Figure size 432x288 with 2 Axes>"
      ]
     },
     "metadata": {},
     "output_type": "display_data"
    }
   ],
   "source": [
    "sns.set()\n",
    "\n",
    "fig, ax0 = plt.subplots(1,1)\n",
    "plt.suptitle('Confusion Matrix', fontsize=20, y=1.02, fontweight='bold')\n",
    "plt.title('0% False negatives', y=1.005)\n",
    "ax = sns.heatmap(cm_final, annot=True, fmt='.1f', square=True, cmap='summer')\n",
    "\n",
    "# matplotlib <=> seaborn fixes\n",
    "plt.yticks([1.5, 0.5], labels=['Actual Positive', 'Actual Negative'], rotation=0)\n",
    "plt.xticks([0.5, 1.5], labels=['Pred. Neg.', 'Pred. Pos.'], rotation=90)\n",
    "plt.gca().set_ylim(2, 0)\n",
    "\n",
    "# fix % to annotations\n",
    "for t in ax.texts: t.set_text(t.get_text() + '%')\n",
    "plt.show()"
   ]
  },
  {
   "cell_type": "markdown",
   "metadata": {},
   "source": [
    "# Feature Importance"
   ]
  },
  {
   "cell_type": "markdown",
   "metadata": {},
   "source": [
    "### Interpretation:\n",
    "> The model was able to reduce the signal information from the frequency transformation to find the frequencies that most likely indicated a transit. This was done by oversampling the confirmed positive transit signals. The model does not get a very good accuracy score due to it's inclusive nature, but without a robust sample of positive transit signals, the only way to prevent missing good candidates (and further increasing the eventual sample of positive signals) is to include as many samples as is even remotely plausible."
   ]
  },
  {
   "cell_type": "code",
   "execution_count": 23,
   "metadata": {},
   "outputs": [
    {
     "data": {
      "image/png": "[encoded data removed]",
      "text/plain": [
       "<Figure size 720x576 with 1 Axes>"
      ]
     },
     "metadata": {},
     "output_type": "display_data"
    },
    {
     "name": "stdout",
     "output_type": "stream",
     "text": [
      "\n",
      "\n",
      "1575 frequencies were considered with less than 1% importance by the model.\n",
      "24 frequencies were considered with greater than 1% importance by the model.\n",
      "\n",
      "\n"
     ]
    }
   ],
   "source": [
    "# Get feature importance\n",
    "importances = boost_model2.feature_importances_\n",
    "\n",
    "# How many were very low? High?\n",
    "low = [x for x in importances if x < 0.01]\n",
    "not_low = [x for x in importances if x > 0.01]\n",
    "\n",
    "bottom = len(low)\n",
    "top = len(not_low)\n",
    "\n",
    "# Visualize the importance by frequency of signal\n",
    "plt.style.use('fivethirtyeight')\n",
    "\n",
    "# Set figure / title / axis labels\n",
    "plt.figure(figsize=(10,8), facecolor='#ededed')\n",
    "plt.title('The model identifies important frequencies well')\n",
    "plt.ylabel('Importance')\n",
    "plt.xlabel('Frequency')\n",
    "\n",
    "# Plot a line indicating 1% (key)\n",
    "plt.axhline(\n",
    "    0.01, # y-axis location\n",
    "    0.05, # Percent starting point (x-axis)\n",
    "    0.95, # Percent ending point (x-axis)\n",
    "    color='black',\n",
    "    linewidth=2,\n",
    "    alpha=0.3,\n",
    "    dashes=(10,3),\n",
    "    label='1%'\n",
    ")\n",
    "\n",
    "# Plot the feature importance\n",
    "plt.plot(\n",
    "    importances,\n",
    "    linewidth=0.7,\n",
    "    color='C1'\n",
    ")\n",
    "\n",
    "# Fix y-ticks\n",
    "plt.yticks([0, 0.02, 0.04, 0.06, 0.08, 0.1, 0.12, 0.14],\n",
    "          labels=['0%', '2%', '4%', '6%', '8%', '10%', '12%', '14%'])\n",
    "# Fix x-ticks\n",
    "plt.xticks([])\n",
    "# Fix x-axis\n",
    "plt.gca().invert_xaxis()\n",
    "\n",
    "# Set legend / show graph\n",
    "plt.legend()\n",
    "plt.show()\n",
    "\n",
    "print('\\n')\n",
    "print(f'{len(low)} frequencies were considered with less than 1% importance by the model.')\n",
    "print(f'{len(not_low)} frequencies were considered with greater than 1% importance by the model.')\n",
    "print('\\n')"
   ]
  },
  {
   "cell_type": "code",
   "execution_count": 24,
   "metadata": {},
   "outputs": [
    {
     "data": {
      "image/png": "[encoded data removed]",
      "text/plain": [
       "<Figure size 432x288 with 1 Axes>"
      ]
     },
     "metadata": {},
     "output_type": "display_data"
    }
   ],
   "source": [
    "# Pie chart\n",
    "#labels = ['All other features', 'Over 1%', '']\n",
    "sizes = [bottom, 1599/250, top, 1599/2]\n",
    "#colors\n",
    "colors = ['#c4c4c4','white','#49a35e','white']\n",
    "#explosion\n",
    "explode = (0.0, 0.01, 0.0, 0.01)\n",
    " \n",
    "fig1, ax1 = plt.subplots(facecolor='white')\n",
    "\n",
    "plt.pie(\n",
    "    sizes,\n",
    "    colors = colors,\n",
    "    startangle=-30,\n",
    "    pctdistance=0.5,\n",
    "    explode = explode\n",
    ")\n",
    "\n",
    "#draw circle\n",
    "center_circle = plt.Circle(\n",
    "    (0,0),\n",
    "    0.70,\n",
    "    fc='white'\n",
    ")\n",
    "\n",
    "fig = plt.gcf()\n",
    "fig.gca().add_artist(center_circle)\n",
    "\n",
    "plt.show()"
   ]
  },
  {
   "cell_type": "markdown",
   "metadata": {},
   "source": [
    "# New prediction!\n",
    "> Now, this file was imported from Campaign 4 of the K2 mission. It had a different number of observations (3140 instead of 3197) so let's see how our model does!"
   ]
  },
  {
   "cell_type": "code",
   "execution_count": 25,
   "metadata": {},
   "outputs": [],
   "source": [
    "# This function works better, so it will replace the old transformation function\n",
    "def transform_new(X):\n",
    "    X = X.copy()\n",
    "    \n",
    "    # Normalize the new data\n",
    "    mean = X.sum(axis=1) / len(X.columns)\n",
    "    X = X.subtract(mean, axis=0)\n",
    "    X = pd.DataFrame(skl.preprocessing.normalize(X))\n",
    "    \n",
    "    # Apply the FFT\n",
    "    X = X.apply(ft, axis=1)\n",
    "    \n",
    "    # Re-format and split to correct length\n",
    "    X = pd.DataFrame.from_records(X.iloc[[x for x in range(len(X))]])\n",
    "    size = len(X.columns) - 1599\n",
    "    X = X.loc[:,size:]\n",
    "    \n",
    "    # Provide uniform names for the column heads\n",
    "    for i in range(len(X.columns)):\n",
    "        X = X.rename(columns={X.columns[i]: f'f.{i+1}'})\n",
    "        \n",
    "    return X\n",
    "\n",
    "# Get file\n",
    "a882 = pd.read_csv(DATA_PATH + 'predict_this.csv')\n",
    "a883 = transform_new(a882.drop(columns='LABEL'))\n",
    "prediction = boost_model2.predict_proba(a883)\n",
    "\n"
   ]
  },
  {
   "cell_type": "code",
   "execution_count": 27,
   "metadata": {},
   "outputs": [
    {
     "name": "stdout",
     "output_type": "stream",
     "text": [
      "Good signal for transit!\n"
     ]
    }
   ],
   "source": [
    "if prediction[0,1] < 0.01:\n",
    "    print('No Transit')\n",
    "else:\n",
    "    print('Good signal for transit!')"
   ]
  },
  {
   "cell_type": "markdown",
   "metadata": {},
   "source": [
    "# Success!\n",
    "> Because the positive class prediction is 2.36%, the model would return positive for the prediction in accordance with our class weighting. There are confirmed transits in this data, so the model was successful!"
   ]
  }
 ],
 "metadata": {
  "kernelspec": {
   "display_name": "Python 3",
   "language": "python",
   "name": "python3"
  },
  "language_info": {
   "codemirror_mode": {
    "name": "ipython",
    "version": 3
   },
   "file_extension": ".py",
   "mimetype": "text/x-python",
   "name": "python",
   "nbconvert_exporter": "python",
   "pygments_lexer": "ipython3",
   "version": "3.7.4"
  }
 },
 "nbformat": 4,
 "nbformat_minor": 4
}
